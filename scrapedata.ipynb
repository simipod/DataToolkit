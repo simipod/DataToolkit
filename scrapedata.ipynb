import pandas as pd
all_tables = pd.read_html("https://top100.seenews.com/rankings/top-100-companies/")
df=all_tables[0]
df.head()

//the most popular industry in that companies operate 
