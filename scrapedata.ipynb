import pandas as pd
all_tables = pd.read_html("https://top100.seenews.com/rankings/top-100-companies/")
df=all_tables[0]
df.head()

//implement solution using pandas's groupby function by headquarters with a count aggregation and you select the top row 
