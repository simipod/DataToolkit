import pandas as pd
all_tables = pd.read_html("https://top100.seenews.com/rankings/top-100-companies/")
df=all_tables[0]
df.head()


//the most popular industry in that companies operate 
//implement a function same as DT1 but with industry column instead of headquarters

//implement solution using pandas's groupby function by headquarters with a count aggregation and you select the top row 
