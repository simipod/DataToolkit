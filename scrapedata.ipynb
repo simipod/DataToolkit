import pandas as pd
all_tables = pd.read_html("https://en.wikipedia.org/wiki/List_of_largest_European_companies_by_revenue")
df=all_tables[0]
df.head()
